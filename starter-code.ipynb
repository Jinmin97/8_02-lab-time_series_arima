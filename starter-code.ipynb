{
 "cells": [
  {
   "cell_type": "markdown",
   "metadata": {},
   "source": [
    "<img src=\"http://imgur.com/1ZcRyrc.png\" style=\"float: left; margin: 20px; height: 55px\">\n",
    "\n",
    "# ARIMA Lab\n",
    "\n",
    "_Authors:_ Joseph Nelson (DC), Boom Devahastin Na Ayudhya (NYC), Bethany Poulin (Boston) \n",
    "\n",
    "---"
   ]
  },
  {
   "cell_type": "markdown",
   "metadata": {},
   "source": [
    "## Introduction\n",
    "\n",
    "\n",
    "The most common application for AR, ARMA, and ARIMA models is inventory planning. Planning inventory for a small shop can be difficult enough, but you've just been hired to plan inventory for a _big_ store - Walmart.\n",
    "\n",
    "In this lab, you will be analyzing weekly Walmart sales data over a two year period from 2010 to 2012. The data is separated by store and by department, but you should focus on analyzing one store for simplicity. Your supervisor has set out the following goals for this project:\n",
    "\n",
    "1. Record any observed trends in the data.\n",
    "2. Produce a trained model to predict future sales numbers.\n",
    "3. Include useful AND COMMENT ON how graphs (ACF, PACF) impact your modelling decisions throughout your notebook.\n",
    "\n",
    "Try your best to tune your model. It can be difficult, but don't worry - time series analysis is a difficult and specialized topic.\n",
    "\n",
    "## Exercise\n",
    "---\n",
    "\n",
    "#### Requirements\n",
    "\n",
    "- Assemble observations and graphs as well as timeseries models in a notebook.\n",
    "\n",
    "\n",
    "#### Additional Resources\n",
    "\n",
    "1. [ARMA Example](https://www.statsmodels.org/dev/examples/notebooks/generated/tsa_arma_0.html)\n",
    "2. [ARMA Models for TSA](https://www.quantstart.com/articles/Autoregressive-Moving-Average-ARMA-p-q-Models-for-Time-Series-Analysis-Part-1)\n",
    "\n",
    "#### Things to Consider\n",
    "\n",
    "You should always be looking for ways to reduce redundancy in your code, improve consistency in your output, and make it easier for others to follow your work! Functions are a huge part of this endeavor!\n",
    "\n",
    "While working on this lab, you may try a number of $p$, $q$, and $d$ values to best account for your data. Because you will likely be repeating yourself, it is useful to create functions that declutter your workspace.\n",
    "\n",
    " - You may want to create a wrapper around the Augmented Dickey-Fuller test to provide both results and context for the output.\n",
    " - You may find value in a combined ACF & PACF function.\n",
    " - You may find it cleaner to build a function to make residual graphs and print out MSE all at once."
   ]
  },
  {
   "cell_type": "markdown",
   "metadata": {},
   "source": [
    "### Importing Necessary Libraries & Loading Data"
   ]
  },
  {
   "cell_type": "code",
   "execution_count": 1,
   "metadata": {},
   "outputs": [
    {
     "data": {
      "text/html": [
       "<div>\n",
       "<style scoped>\n",
       "    .dataframe tbody tr th:only-of-type {\n",
       "        vertical-align: middle;\n",
       "    }\n",
       "\n",
       "    .dataframe tbody tr th {\n",
       "        vertical-align: top;\n",
       "    }\n",
       "\n",
       "    .dataframe thead th {\n",
       "        text-align: right;\n",
       "    }\n",
       "</style>\n",
       "<table border=\"1\" class=\"dataframe\">\n",
       "  <thead>\n",
       "    <tr style=\"text-align: right;\">\n",
       "      <th></th>\n",
       "      <th>Store</th>\n",
       "      <th>Dept</th>\n",
       "      <th>Weekly_Sales</th>\n",
       "      <th>IsHoliday</th>\n",
       "    </tr>\n",
       "    <tr>\n",
       "      <th>Date</th>\n",
       "      <th></th>\n",
       "      <th></th>\n",
       "      <th></th>\n",
       "      <th></th>\n",
       "    </tr>\n",
       "  </thead>\n",
       "  <tbody>\n",
       "    <tr>\n",
       "      <th>2010-02-05</th>\n",
       "      <td>1</td>\n",
       "      <td>1</td>\n",
       "      <td>24924.50</td>\n",
       "      <td>False</td>\n",
       "    </tr>\n",
       "    <tr>\n",
       "      <th>2010-02-12</th>\n",
       "      <td>1</td>\n",
       "      <td>1</td>\n",
       "      <td>46039.49</td>\n",
       "      <td>True</td>\n",
       "    </tr>\n",
       "    <tr>\n",
       "      <th>2010-02-19</th>\n",
       "      <td>1</td>\n",
       "      <td>1</td>\n",
       "      <td>41595.55</td>\n",
       "      <td>False</td>\n",
       "    </tr>\n",
       "    <tr>\n",
       "      <th>2010-02-26</th>\n",
       "      <td>1</td>\n",
       "      <td>1</td>\n",
       "      <td>19403.54</td>\n",
       "      <td>False</td>\n",
       "    </tr>\n",
       "    <tr>\n",
       "      <th>2010-03-05</th>\n",
       "      <td>1</td>\n",
       "      <td>1</td>\n",
       "      <td>21827.90</td>\n",
       "      <td>False</td>\n",
       "    </tr>\n",
       "  </tbody>\n",
       "</table>\n",
       "</div>"
      ],
      "text/plain": [
       "            Store  Dept  Weekly_Sales  IsHoliday\n",
       "Date                                            \n",
       "2010-02-05      1     1      24924.50      False\n",
       "2010-02-12      1     1      46039.49       True\n",
       "2010-02-19      1     1      41595.55      False\n",
       "2010-02-26      1     1      19403.54      False\n",
       "2010-03-05      1     1      21827.90      False"
      ]
     },
     "execution_count": 1,
     "metadata": {},
     "output_type": "execute_result"
    }
   ],
   "source": [
    "import pandas as pd\n",
    "import numpy as np\n",
    "import matplotlib.pyplot as plt\n",
    "import seaborn as sns\n",
    "\n",
    "from statsmodels.tsa.arima_model import ARIMA, ARMA\n",
    "from sklearn.metrics import mean_absolute_error\n",
    "from statsmodels.tsa.stattools import adfuller  \n",
    "\n",
    "%matplotlib inline\n",
    "\n",
    "import warnings\n",
    "warnings.simplefilter(action=\"ignore\")\n",
    "\n",
    "data = pd.read_csv('./datasets/train.csv')\n",
    "data.set_index('Date', inplace=True)\n",
    "data.head()"
   ]
  },
  {
   "cell_type": "markdown",
   "metadata": {},
   "source": [
    "## Exploratory Analysis"
   ]
  },
  {
   "cell_type": "markdown",
   "metadata": {},
   "source": [
    "#### 0. Preprocessing Data\n",
    "It's always a good idea to evaluate the current state of your data. For every set of data this means something different. But the bare minimum is understanding what types of data you have, knowing if there are missing values and checking to be sure that your date column (or index) is in a proper date format.\n",
    "\n",
    "Accordingly you should check:\n",
    " - Format of date column/index\n",
    " - Data types for each column\n",
    " - Whether or not we will have to deal with missing data"
   ]
  },
  {
   "cell_type": "code",
   "execution_count": 2,
   "metadata": {},
   "outputs": [
    {
     "data": {
      "text/plain": [
       "Index(['2010-02-05', '2010-02-12', '2010-02-19', '2010-02-26', '2010-03-05',\n",
       "       '2010-03-12', '2010-03-19', '2010-03-26', '2010-04-02', '2010-04-09',\n",
       "       ...\n",
       "       '2012-08-24', '2012-08-31', '2012-09-07', '2012-09-14', '2012-09-21',\n",
       "       '2012-09-28', '2012-10-05', '2012-10-12', '2012-10-19', '2012-10-26'],\n",
       "      dtype='object', name='Date', length=421570)"
      ]
     },
     "execution_count": 2,
     "metadata": {},
     "output_type": "execute_result"
    }
   ],
   "source": [
    "data.index"
   ]
  },
  {
   "cell_type": "code",
   "execution_count": 3,
   "metadata": {},
   "outputs": [
    {
     "name": "stdout",
     "output_type": "stream",
     "text": [
      "<class 'pandas.core.frame.DataFrame'>\n",
      "Index: 421570 entries, 2010-02-05 to 2012-10-26\n",
      "Data columns (total 4 columns):\n",
      " #   Column        Non-Null Count   Dtype  \n",
      "---  ------        --------------   -----  \n",
      " 0   Store         421570 non-null  int64  \n",
      " 1   Dept          421570 non-null  int64  \n",
      " 2   Weekly_Sales  421570 non-null  float64\n",
      " 3   IsHoliday     421570 non-null  bool   \n",
      "dtypes: bool(1), float64(1), int64(2)\n",
      "memory usage: 13.3+ MB\n"
     ]
    }
   ],
   "source": [
    "data.info()"
   ]
  },
  {
   "cell_type": "code",
   "execution_count": 4,
   "metadata": {},
   "outputs": [
    {
     "data": {
      "text/plain": [
       "Store           0\n",
       "Dept            0\n",
       "Weekly_Sales    0\n",
       "IsHoliday       0\n",
       "dtype: int64"
      ]
     },
     "execution_count": 4,
     "metadata": {},
     "output_type": "execute_result"
    }
   ],
   "source": [
    "data.isnull().sum()"
   ]
  },
  {
   "cell_type": "markdown",
   "metadata": {},
   "source": [
    "#### 1. Extracting Data to Model\n",
    "\n",
    "Our data set has a number of stores, each with weekly sales volumes for many departments. \n",
    "\n",
    "To facilitate our first time series model, we need to use a single store, and aggregate the total sales for all departments.\n",
    "\n",
    "**Aggregate all of the sales for STORE 1 into a new dataframe called `Weekly_Sales`.**\n"
   ]
  },
  {
   "cell_type": "code",
   "execution_count": 5,
   "metadata": {},
   "outputs": [
    {
     "data": {
      "text/html": [
       "<div>\n",
       "<style scoped>\n",
       "    .dataframe tbody tr th:only-of-type {\n",
       "        vertical-align: middle;\n",
       "    }\n",
       "\n",
       "    .dataframe tbody tr th {\n",
       "        vertical-align: top;\n",
       "    }\n",
       "\n",
       "    .dataframe thead th {\n",
       "        text-align: right;\n",
       "    }\n",
       "</style>\n",
       "<table border=\"1\" class=\"dataframe\">\n",
       "  <thead>\n",
       "    <tr style=\"text-align: right;\">\n",
       "      <th></th>\n",
       "      <th>Weekly_Sales</th>\n",
       "    </tr>\n",
       "    <tr>\n",
       "      <th>Date</th>\n",
       "      <th></th>\n",
       "    </tr>\n",
       "  </thead>\n",
       "  <tbody>\n",
       "    <tr>\n",
       "      <th>2010-02-05</th>\n",
       "      <td>1643690.90</td>\n",
       "    </tr>\n",
       "    <tr>\n",
       "      <th>2010-02-12</th>\n",
       "      <td>1641957.44</td>\n",
       "    </tr>\n",
       "    <tr>\n",
       "      <th>2010-02-19</th>\n",
       "      <td>1611968.17</td>\n",
       "    </tr>\n",
       "    <tr>\n",
       "      <th>2010-02-26</th>\n",
       "      <td>1409727.59</td>\n",
       "    </tr>\n",
       "    <tr>\n",
       "      <th>2010-03-05</th>\n",
       "      <td>1554806.68</td>\n",
       "    </tr>\n",
       "    <tr>\n",
       "      <th>...</th>\n",
       "      <td>...</td>\n",
       "    </tr>\n",
       "    <tr>\n",
       "      <th>2012-09-28</th>\n",
       "      <td>1437059.26</td>\n",
       "    </tr>\n",
       "    <tr>\n",
       "      <th>2012-10-05</th>\n",
       "      <td>1670785.97</td>\n",
       "    </tr>\n",
       "    <tr>\n",
       "      <th>2012-10-12</th>\n",
       "      <td>1573072.81</td>\n",
       "    </tr>\n",
       "    <tr>\n",
       "      <th>2012-10-19</th>\n",
       "      <td>1508068.77</td>\n",
       "    </tr>\n",
       "    <tr>\n",
       "      <th>2012-10-26</th>\n",
       "      <td>1493659.74</td>\n",
       "    </tr>\n",
       "  </tbody>\n",
       "</table>\n",
       "<p>143 rows × 1 columns</p>\n",
       "</div>"
      ],
      "text/plain": [
       "            Weekly_Sales\n",
       "Date                    \n",
       "2010-02-05    1643690.90\n",
       "2010-02-12    1641957.44\n",
       "2010-02-19    1611968.17\n",
       "2010-02-26    1409727.59\n",
       "2010-03-05    1554806.68\n",
       "...                  ...\n",
       "2012-09-28    1437059.26\n",
       "2012-10-05    1670785.97\n",
       "2012-10-12    1573072.81\n",
       "2012-10-19    1508068.77\n",
       "2012-10-26    1493659.74\n",
       "\n",
       "[143 rows x 1 columns]"
      ]
     },
     "execution_count": 5,
     "metadata": {},
     "output_type": "execute_result"
    }
   ],
   "source": [
    "store1 = data[data['Store'] == 1]\n",
    "Weekly_Sales = store1.groupby(store1.index)[['Weekly_Sales']].sum()\n",
    "Weekly_Sales"
   ]
  },
  {
   "cell_type": "markdown",
   "metadata": {},
   "source": [
    "#### 2. Plotting & Interpreting Time Series\n",
    "\n",
    "Plots are a central part of all time series analysis. You should always start with a basic line plot.\n",
    "\n",
    "**2a. Generate a line plot for `Weekly_Sales` with time on the $x$-axis.**"
   ]
  },
  {
   "cell_type": "code",
   "execution_count": 6,
   "metadata": {},
   "outputs": [],
   "source": [
    "# Code modified from code written by Matthew Garton.\n",
    "\n",
    "def plot_series(df, cols=None, title='Title', xlab=None, ylab=None, steps=1):\n",
    "    \n",
    "    # Set figure size to be (18, 9).\n",
    "    plt.figure(figsize=(18,9))\n",
    "    \n",
    "    # Iterate through each column name.\n",
    "    for col in cols:\n",
    "            \n",
    "        # Generate a line plot of the column name.\n",
    "        # You only have to specify Y, since our\n",
    "        # index will be a datetime index.\n",
    "        plt.plot(df[col])\n",
    "        \n",
    "    # Generate title and labels.\n",
    "    plt.title(title, fontsize=26)\n",
    "    plt.xlabel(xlab, fontsize=20)\n",
    "    plt.ylabel(ylab, fontsize=20)\n",
    "    \n",
    "    # Enlarge tick marks.\n",
    "    plt.yticks(fontsize=18)\n",
    "    plt.xticks(df.index[0::steps], fontsize=18);"
   ]
  },
  {
   "cell_type": "code",
   "execution_count": 7,
   "metadata": {},
   "outputs": [
    {
     "data": {
      "image/png": "[encoded data removed]",
      "text/plain": [
       "<Figure size 1296x648 with 1 Axes>"
      ]
     },
     "metadata": {
      "needs_background": "light"
     },
     "output_type": "display_data"
    }
   ],
   "source": [
    "plot_series(Weekly_Sales, ['Weekly_Sales'], title = \"Weekly Sales for store 1\", steps = 20)"
   ]
  },
  {
   "cell_type": "markdown",
   "metadata": {},
   "source": [
    "Smoothing can help us see trends in the data. With time series, this frequently means plotting a rolling mean.\n",
    "\n",
    "You might start looking at a one week roll, but you consider several 'windows' of time. \n",
    " - What would a four week rolling mean look like? \n",
    " - How about quarterly? \n",
    " - Or annually? \n",
    "\n",
    "**2b. Calculate the rolling mean(s) for `Weekly_Sales` then plot them on a single set of axes.**"
   ]
  },
  {
   "cell_type": "code",
   "execution_count": 8,
   "metadata": {},
   "outputs": [
    {
     "data": {
      "text/plain": [
       "<matplotlib.legend.Legend at 0x17e4b87a0d0>"
      ]
     },
     "execution_count": 8,
     "metadata": {},
     "output_type": "execute_result"
    },
    {
     "data": {
      "image/png": "[encoded data removed]",
      "text/plain": [
       "<Figure size 1296x648 with 1 Axes>"
      ]
     },
     "metadata": {
      "needs_background": "light"
     },
     "output_type": "display_data"
    }
   ],
   "source": [
    "plt.figure(figsize=(18,9))\n",
    "line1 = plt.plot(Weekly_Sales['Weekly_Sales'].rolling(4).mean()) #4 weeks\n",
    "line2 = plt.plot(Weekly_Sales['Weekly_Sales'].rolling(12).mean()) #Quarterly\n",
    "line3 = plt.plot(Weekly_Sales['Weekly_Sales'].rolling(52).mean()) #Annually\n",
    "\n",
    "# Generate title and labels.\n",
    "plt.title('Rolling mean for Weekly Sales', fontsize=26)\n",
    "    \n",
    "# Enlarge tick marks.\n",
    "plt.yticks(fontsize=18)\n",
    "plt.xticks(Weekly_Sales.index[0::20], fontsize=18)\n",
    "plt.legend(['4 Weeks', 'Quarterly', 'Annually'])"
   ]
  },
  {
   "cell_type": "markdown",
   "metadata": {},
   "source": [
    "**2c. What can you say about trends in the data based on the rolling mean plot above?**"
   ]
  },
  {
   "cell_type": "markdown",
   "metadata": {},
   "source": [
    "*Answer:* There is a steady increase in weekly sales based on the annual rolling mean"
   ]
  },
  {
   "cell_type": "markdown",
   "metadata": {},
   "source": [
    "#### 3. Autocorrelations\n",
    "\n",
    "We've learned about autocorrelation: the influence a serial observation has on the observations which follow.\n",
    "\n",
    "Calculate autocorrelation in your `Weekly_Sales` data so that you can answer the question: 'How does autocorrelation differ as lag-weeks vary?'\n",
    "\n",
    "**3a. Check at least three lag intervals (but feel free to explore others):**\n",
    " - **1 week**\n",
    " - **2 weeks**\n",
    " - **1 year (52 weeks)**"
   ]
  },
  {
   "cell_type": "code",
   "execution_count": 9,
   "metadata": {},
   "outputs": [
    {
     "data": {
      "image/png": "[encoded data removed]",
      "text/plain": [
       "<Figure size 432x288 with 1 Axes>"
      ]
     },
     "metadata": {
      "needs_background": "light"
     },
     "output_type": "display_data"
    },
    {
     "data": {
      "image/png": "[encoded data removed]",
      "text/plain": [
       "<Figure size 432x288 with 1 Axes>"
      ]
     },
     "metadata": {
      "needs_background": "light"
     },
     "output_type": "display_data"
    }
   ],
   "source": [
    "from statsmodels.graphics.tsaplots import plot_acf, plot_pacf\n",
    "plot_acf(Weekly_Sales['Weekly_Sales'], lags = 1);\n",
    "plot_pacf(Weekly_Sales['Weekly_Sales'], lags = 1);"
   ]
  },
  {
   "cell_type": "code",
   "execution_count": 10,
   "metadata": {},
   "outputs": [
    {
     "data": {
      "image/png": "[encoded data removed]",
      "text/plain": [
       "<Figure size 432x288 with 1 Axes>"
      ]
     },
     "metadata": {
      "needs_background": "light"
     },
     "output_type": "display_data"
    },
    {
     "data": {
      "image/png": "[encoded data removed]",
      "text/plain": [
       "<Figure size 432x288 with 1 Axes>"
      ]
     },
     "metadata": {
      "needs_background": "light"
     },
     "output_type": "display_data"
    }
   ],
   "source": [
    "plot_acf(Weekly_Sales['Weekly_Sales'], lags = 2);\n",
    "plot_pacf(Weekly_Sales['Weekly_Sales'], lags = 2);"
   ]
  },
  {
   "cell_type": "code",
   "execution_count": 11,
   "metadata": {},
   "outputs": [
    {
     "data": {
      "image/png": "[encoded data removed]",
      "text/plain": [
       "<Figure size 432x288 with 1 Axes>"
      ]
     },
     "metadata": {
      "needs_background": "light"
     },
     "output_type": "display_data"
    },
    {
     "data": {
      "image/png": "[encoded data removed]",
      "text/plain": [
       "<Figure size 432x288 with 1 Axes>"
      ]
     },
     "metadata": {
      "needs_background": "light"
     },
     "output_type": "display_data"
    }
   ],
   "source": [
    "plot_acf(Weekly_Sales['Weekly_Sales'], lags = 52);\n",
    "plot_pacf(Weekly_Sales['Weekly_Sales'], lags = 52);"
   ]
  },
  {
   "cell_type": "markdown",
   "metadata": {},
   "source": [
    "**3b. What can you say about the series based on these autocorrelations?**"
   ]
  },
  {
   "cell_type": "markdown",
   "metadata": {},
   "source": [
    "Answer:"
   ]
  },
  {
   "cell_type": "markdown",
   "metadata": {},
   "source": [
    "**3c. Plotting ACF and PCF**\n",
    "As we learned in lecture, plotting the `Autocorrelation Function` and `Partial Autocorrelation Functions` can be useful in understanding seasonality in time series data.\n",
    "\n",
    "Make a 52-week `ACF` and 52-week `PACF` plot now."
   ]
  },
  {
   "cell_type": "code",
   "execution_count": 12,
   "metadata": {},
   "outputs": [
    {
     "data": {
      "image/png": "[encoded data removed]",
      "text/plain": [
       "<Figure size 432x288 with 1 Axes>"
      ]
     },
     "metadata": {
      "needs_background": "light"
     },
     "output_type": "display_data"
    },
    {
     "data": {
      "image/png": "[encoded data removed]",
      "text/plain": [
       "<Figure size 432x288 with 1 Axes>"
      ]
     },
     "metadata": {
      "needs_background": "light"
     },
     "output_type": "display_data"
    }
   ],
   "source": [
    "plot_acf(Weekly_Sales['Weekly_Sales'], lags = 52);\n",
    "plot_pacf(Weekly_Sales['Weekly_Sales'], lags = 52);"
   ]
  },
  {
   "cell_type": "markdown",
   "metadata": {},
   "source": [
    "#### 4. Interpreting the `ACF` and `PACF` Plots\n",
    "\n",
    "**4a. What do the ACF and PACF graphs tell you about your sales data?**"
   ]
  },
  {
   "cell_type": "markdown",
   "metadata": {},
   "source": [
    "Answer: It tells us what model would be appropriate for the sales data"
   ]
  },
  {
   "cell_type": "markdown",
   "metadata": {},
   "source": [
    "**4b. How do the `ACF` and `PACF` inform your model selections moving forward?**"
   ]
  },
  {
   "cell_type": "markdown",
   "metadata": {},
   "source": [
    "Answer:"
   ]
  },
  {
   "cell_type": "markdown",
   "metadata": {},
   "source": [
    "## Modeling\n",
    "\n",
    "**5. Train/Test Split**  \n",
    "\n",
    "Modeling with time series data presents unique challenges because our observations are not independent of one another. \n",
    "\n",
    "So, in splitting the data into `training` and `test` sets, **we cannot split randomly**. Use the first *75%* of observations as training data and the following 25% for test data."
   ]
  },
  {
   "cell_type": "code",
   "execution_count": 13,
   "metadata": {},
   "outputs": [],
   "source": [
    "train = Weekly_Sales.iloc[0:round(0.75*len(Weekly_Sales))]\n",
    "\n",
    "test = Weekly_Sales.iloc[round(0.75*len(Weekly_Sales)):]\n"
   ]
  },
  {
   "cell_type": "markdown",
   "metadata": {},
   "source": [
    "#### 6. Autoregressive Model\n",
    "\n",
    "We will start by building a simple autoregressive model first: the `AR(1)` model. In each section, we will add additional ARIMA parameters in an effort to improve our modeling. Note that sometimes the model you attempt is not effective or the best -- try the BONUS sections below to see other approaches to modeling this dataset!\n",
    "\n",
    "- Note that this is the same thing as an `ARIMA(1,0,0)` model.\n",
    "- Pass in the Weekly Sales as an `ndarray`, not a `Series`.\n",
    "- Pass in the training index using the ARIMA `dates` parameter.\n",
    "\n",
    "**6a. Instantiate and fit an `AR(1)` model.**"
   ]
  },
  {
   "cell_type": "code",
   "execution_count": 14,
   "metadata": {},
   "outputs": [],
   "source": [
    "import statsmodels.api as sm\n",
    "arima_100 = sm.tsa.arima.ARIMA(train['Weekly_Sales'], order=(1, 0, 0)).fit()"
   ]
  },
  {
   "cell_type": "markdown",
   "metadata": {},
   "source": [
    "**6b. Calculate the Mean Squared Error of the `AR(1)` on your training set and your test set.**\n"
   ]
  },
  {
   "cell_type": "code",
   "execution_count": 15,
   "metadata": {},
   "outputs": [
    {
     "data": {
      "text/plain": [
       "25903503058.390297"
      ]
     },
     "execution_count": 15,
     "metadata": {},
     "output_type": "execute_result"
    }
   ],
   "source": [
    "\n",
    "from sklearn.metrics import mean_squared_error\n",
    "Y_true = train['Weekly_Sales']\n",
    "Y_pred_100 = arima_100.predict()\n",
    "mean_squared_error(Y_true,Y_pred_100)"
   ]
  },
  {
   "cell_type": "code",
   "execution_count": 16,
   "metadata": {},
   "outputs": [
    {
     "data": {
      "text/plain": [
       "2010-02-05    1.543768e+06\n",
       "2010-02-12    1.575209e+06\n",
       "2010-02-19    1.574664e+06\n",
       "2010-02-26    1.565227e+06\n",
       "2010-03-05    1.501591e+06\n",
       "                  ...     \n",
       "2012-01-20    1.517284e+06\n",
       "2012-01-27    1.496766e+06\n",
       "2012-02-03    1.473146e+06\n",
       "2012-02-10    1.572896e+06\n",
       "2012-02-17    1.625172e+06\n",
       "Freq: W-FRI, Name: predicted_mean, Length: 107, dtype: float64"
      ]
     },
     "execution_count": 16,
     "metadata": {},
     "output_type": "execute_result"
    }
   ],
   "source": [
    "arima_100.predict()"
   ]
  },
  {
   "cell_type": "markdown",
   "metadata": {},
   "source": [
    "**6c. How effective do you think this `AR(1)` model is?**"
   ]
  },
  {
   "cell_type": "markdown",
   "metadata": {},
   "source": [
    "Answer: Not very since the MSE is large"
   ]
  },
  {
   "cell_type": "markdown",
   "metadata": {},
   "source": [
    "#### 7. Residual Plot  \n",
    "Mean squared error is a good way to evaluate our model's performance. However, this doesn't tell the whole story. Is our model off by a lot in one specific window of time? Is our model only slightly off, but over all time? It might be helpful to plot residuals to see when our model is off most.\n",
    "\n",
    "**7a. Calculate and and plot the residuals of your `AR(1)` model. (*Remember that a residual is just the actual value minus the predicted value.*)**"
   ]
  },
  {
   "cell_type": "code",
   "execution_count": 17,
   "metadata": {},
   "outputs": [
    {
     "data": {
      "text/plain": [
       "Date\n",
       "2010-02-05    1543767.555421\n",
       "2010-02-12     1575208.94247\n",
       "2010-02-19    1574663.500491\n",
       "2010-02-26     1565227.22462\n",
       "2010-03-05    1501591.200629\n",
       "                   ...      \n",
       "2012-01-20    1517284.175469\n",
       "2012-01-27     1496766.35844\n",
       "2012-02-03    1473145.752931\n",
       "2012-02-10    1572895.834382\n",
       "2012-02-17    1625171.929288\n",
       "Name: pred, Length: 107, dtype: object"
      ]
     },
     "execution_count": 17,
     "metadata": {},
     "output_type": "execute_result"
    }
   ],
   "source": [
    "train['pred'] = ''\n",
    "for i in range(len(Y_pred_100)):\n",
    "    train['pred'][i] = Y_pred_100[i]\n",
    "    \n",
    "train['pred']"
   ]
  },
  {
   "cell_type": "code",
   "execution_count": 18,
   "metadata": {},
   "outputs": [
    {
     "data": {
      "text/html": [
       "<div>\n",
       "<style scoped>\n",
       "    .dataframe tbody tr th:only-of-type {\n",
       "        vertical-align: middle;\n",
       "    }\n",
       "\n",
       "    .dataframe tbody tr th {\n",
       "        vertical-align: top;\n",
       "    }\n",
       "\n",
       "    .dataframe thead th {\n",
       "        text-align: right;\n",
       "    }\n",
       "</style>\n",
       "<table border=\"1\" class=\"dataframe\">\n",
       "  <thead>\n",
       "    <tr style=\"text-align: right;\">\n",
       "      <th></th>\n",
       "      <th>Weekly_Sales</th>\n",
       "      <th>pred</th>\n",
       "      <th>Y_true</th>\n",
       "      <th>resi</th>\n",
       "    </tr>\n",
       "    <tr>\n",
       "      <th>Date</th>\n",
       "      <th></th>\n",
       "      <th></th>\n",
       "      <th></th>\n",
       "      <th></th>\n",
       "    </tr>\n",
       "  </thead>\n",
       "  <tbody>\n",
       "    <tr>\n",
       "      <th>2010-02-05</th>\n",
       "      <td>1643690.90</td>\n",
       "      <td>1543767.555421</td>\n",
       "      <td>1643690.90</td>\n",
       "      <td>99923.344579</td>\n",
       "    </tr>\n",
       "    <tr>\n",
       "      <th>2010-02-12</th>\n",
       "      <td>1641957.44</td>\n",
       "      <td>1575208.94247</td>\n",
       "      <td>1641957.44</td>\n",
       "      <td>66748.49753</td>\n",
       "    </tr>\n",
       "    <tr>\n",
       "      <th>2010-02-19</th>\n",
       "      <td>1611968.17</td>\n",
       "      <td>1574663.500491</td>\n",
       "      <td>1611968.17</td>\n",
       "      <td>37304.669509</td>\n",
       "    </tr>\n",
       "    <tr>\n",
       "      <th>2010-02-26</th>\n",
       "      <td>1409727.59</td>\n",
       "      <td>1565227.22462</td>\n",
       "      <td>1409727.59</td>\n",
       "      <td>-155499.63462</td>\n",
       "    </tr>\n",
       "    <tr>\n",
       "      <th>2010-03-05</th>\n",
       "      <td>1554806.68</td>\n",
       "      <td>1501591.200629</td>\n",
       "      <td>1554806.68</td>\n",
       "      <td>53215.479371</td>\n",
       "    </tr>\n",
       "  </tbody>\n",
       "</table>\n",
       "</div>"
      ],
      "text/plain": [
       "            Weekly_Sales            pred      Y_true          resi\n",
       "Date                                                              \n",
       "2010-02-05    1643690.90  1543767.555421  1643690.90  99923.344579\n",
       "2010-02-12    1641957.44   1575208.94247  1641957.44   66748.49753\n",
       "2010-02-19    1611968.17  1574663.500491  1611968.17  37304.669509\n",
       "2010-02-26    1409727.59   1565227.22462  1409727.59 -155499.63462\n",
       "2010-03-05    1554806.68  1501591.200629  1554806.68  53215.479371"
      ]
     },
     "execution_count": 18,
     "metadata": {},
     "output_type": "execute_result"
    }
   ],
   "source": [
    "train['Y_true'] = Y_true\n",
    "train['resi'] = train['Y_true'] - train['pred']\n",
    "train.head()"
   ]
  },
  {
   "cell_type": "code",
   "execution_count": 19,
   "metadata": {},
   "outputs": [
    {
     "data": {
      "text/plain": [
       "Text(0.5, 1.0, 'Residual Plot')"
      ]
     },
     "execution_count": 19,
     "metadata": {},
     "output_type": "execute_result"
    },
    {
     "data": {
      "image/png": "[encoded data removed]",
      "text/plain": [
       "<Figure size 432x288 with 1 Axes>"
      ]
     },
     "metadata": {
      "needs_background": "light"
     },
     "output_type": "display_data"
    }
   ],
   "source": [
    "plt.scatter(train.index, train['resi'])\n",
    "plt.title('Residual Plot')"
   ]
  },
  {
   "cell_type": "markdown",
   "metadata": {},
   "source": [
    "From this plot we can see that there are clearly errors in our predictions. \n",
    "\n",
    "**7b. What do the residual plots reveal about our model?**"
   ]
  },
  {
   "cell_type": "markdown",
   "metadata": {},
   "source": [
    "Answer: Errors are huge and random"
   ]
  },
  {
   "cell_type": "markdown",
   "metadata": {},
   "source": [
    "#### 8. AR vs. ARMA Models \n",
    "\n",
    "\n",
    "**8a. Let's fit an `AR(2)` model. Calculate the MSE on the training and testing sets, then plot the residuals.**"
   ]
  },
  {
   "cell_type": "code",
   "execution_count": 20,
   "metadata": {},
   "outputs": [],
   "source": [
    "arima_200 = sm.tsa.arima.ARIMA(train['Weekly_Sales'], order=(2, 0, 0)).fit()"
   ]
  },
  {
   "cell_type": "code",
   "execution_count": 21,
   "metadata": {},
   "outputs": [
    {
     "data": {
      "text/plain": [
       "25814337771.797123"
      ]
     },
     "execution_count": 21,
     "metadata": {},
     "output_type": "execute_result"
    }
   ],
   "source": [
    "Y_true = train['Weekly_Sales']\n",
    "Y_pred_200 = arima_200.predict()\n",
    "mean_squared_error(Y_true,Y_pred_200)"
   ]
  },
  {
   "cell_type": "code",
   "execution_count": 22,
   "metadata": {},
   "outputs": [],
   "source": [
    "train['pred_200'] = ''\n",
    "for i in range(len(Y_pred_200)):\n",
    "    train['pred_200'][i] = Y_pred_200[i]"
   ]
  },
  {
   "cell_type": "code",
   "execution_count": 23,
   "metadata": {},
   "outputs": [
    {
     "data": {
      "text/html": [
       "<div>\n",
       "<style scoped>\n",
       "    .dataframe tbody tr th:only-of-type {\n",
       "        vertical-align: middle;\n",
       "    }\n",
       "\n",
       "    .dataframe tbody tr th {\n",
       "        vertical-align: top;\n",
       "    }\n",
       "\n",
       "    .dataframe thead th {\n",
       "        text-align: right;\n",
       "    }\n",
       "</style>\n",
       "<table border=\"1\" class=\"dataframe\">\n",
       "  <thead>\n",
       "    <tr style=\"text-align: right;\">\n",
       "      <th></th>\n",
       "      <th>Weekly_Sales</th>\n",
       "      <th>pred</th>\n",
       "      <th>Y_true</th>\n",
       "      <th>resi</th>\n",
       "      <th>pred_200</th>\n",
       "      <th>resi_200</th>\n",
       "    </tr>\n",
       "    <tr>\n",
       "      <th>Date</th>\n",
       "      <th></th>\n",
       "      <th></th>\n",
       "      <th></th>\n",
       "      <th></th>\n",
       "      <th></th>\n",
       "      <th></th>\n",
       "    </tr>\n",
       "  </thead>\n",
       "  <tbody>\n",
       "    <tr>\n",
       "      <th>2010-02-05</th>\n",
       "      <td>1643690.90</td>\n",
       "      <td>1543767.555421</td>\n",
       "      <td>1643690.90</td>\n",
       "      <td>99923.344579</td>\n",
       "      <td>1543767.555421</td>\n",
       "      <td>99923.344579</td>\n",
       "    </tr>\n",
       "    <tr>\n",
       "      <th>2010-02-12</th>\n",
       "      <td>1641957.44</td>\n",
       "      <td>1575208.94247</td>\n",
       "      <td>1641957.44</td>\n",
       "      <td>66748.49753</td>\n",
       "      <td>1575335.64278</td>\n",
       "      <td>66621.79722</td>\n",
       "    </tr>\n",
       "    <tr>\n",
       "      <th>2010-02-19</th>\n",
       "      <td>1611968.17</td>\n",
       "      <td>1574663.500491</td>\n",
       "      <td>1611968.17</td>\n",
       "      <td>37304.669509</td>\n",
       "      <td>1578843.857336</td>\n",
       "      <td>33124.312664</td>\n",
       "    </tr>\n",
       "    <tr>\n",
       "      <th>2010-02-26</th>\n",
       "      <td>1409727.59</td>\n",
       "      <td>1565227.22462</td>\n",
       "      <td>1409727.59</td>\n",
       "      <td>-155499.63462</td>\n",
       "      <td>1569825.207588</td>\n",
       "      <td>-160097.617588</td>\n",
       "    </tr>\n",
       "    <tr>\n",
       "      <th>2010-03-05</th>\n",
       "      <td>1554806.68</td>\n",
       "      <td>1501591.200629</td>\n",
       "      <td>1554806.68</td>\n",
       "      <td>53215.479371</td>\n",
       "      <td>1507928.402512</td>\n",
       "      <td>46878.277488</td>\n",
       "    </tr>\n",
       "  </tbody>\n",
       "</table>\n",
       "</div>"
      ],
      "text/plain": [
       "            Weekly_Sales            pred      Y_true          resi  \\\n",
       "Date                                                                 \n",
       "2010-02-05    1643690.90  1543767.555421  1643690.90  99923.344579   \n",
       "2010-02-12    1641957.44   1575208.94247  1641957.44   66748.49753   \n",
       "2010-02-19    1611968.17  1574663.500491  1611968.17  37304.669509   \n",
       "2010-02-26    1409727.59   1565227.22462  1409727.59 -155499.63462   \n",
       "2010-03-05    1554806.68  1501591.200629  1554806.68  53215.479371   \n",
       "\n",
       "                  pred_200       resi_200  \n",
       "Date                                       \n",
       "2010-02-05  1543767.555421   99923.344579  \n",
       "2010-02-12   1575335.64278    66621.79722  \n",
       "2010-02-19  1578843.857336   33124.312664  \n",
       "2010-02-26  1569825.207588 -160097.617588  \n",
       "2010-03-05  1507928.402512   46878.277488  "
      ]
     },
     "execution_count": 23,
     "metadata": {},
     "output_type": "execute_result"
    }
   ],
   "source": [
    "train['resi_200'] = train['Y_true'] - train['pred_200']\n",
    "train.head()"
   ]
  },
  {
   "cell_type": "code",
   "execution_count": 24,
   "metadata": {},
   "outputs": [
    {
     "data": {
      "text/plain": [
       "Text(0.5, 1.0, 'Residual Plot')"
      ]
     },
     "execution_count": 24,
     "metadata": {},
     "output_type": "execute_result"
    },
    {
     "data": {
      "image/png": "[encoded data removed]",
      "text/plain": [
       "<Figure size 432x288 with 1 Axes>"
      ]
     },
     "metadata": {
      "needs_background": "light"
     },
     "output_type": "display_data"
    }
   ],
   "source": [
    "plt.scatter(train.index, train['resi_200'])\n",
    "plt.title('Residual Plot')"
   ]
  },
  {
   "cell_type": "markdown",
   "metadata": {},
   "source": [
    "**8b. How did your results change?**"
   ]
  },
  {
   "cell_type": "markdown",
   "metadata": {},
   "source": [
    "Answer: Not much difference"
   ]
  },
  {
   "cell_type": "markdown",
   "metadata": {},
   "source": [
    "**8c. Fit an `ARMA(2,2)` model. Calculate the MSE on the training and testing sets, then plot the residuals.** (_Note that an `ARMA(2,2)` model is the same as an `ARIMA(2,0,2)` model._)"
   ]
  },
  {
   "cell_type": "code",
   "execution_count": 25,
   "metadata": {},
   "outputs": [
    {
     "data": {
      "text/plain": [
       "21601543813.992615"
      ]
     },
     "execution_count": 25,
     "metadata": {},
     "output_type": "execute_result"
    }
   ],
   "source": [
    "arima_202 = sm.tsa.arima.ARIMA(train['Weekly_Sales'], order=(2, 0, 2)).fit()\n",
    "Y_pred_202 = arima_202.predict()\n",
    "mean_squared_error(Y_true,Y_pred_202)"
   ]
  },
  {
   "cell_type": "code",
   "execution_count": 26,
   "metadata": {},
   "outputs": [],
   "source": [
    "train['pred_202'] = ''\n",
    "for i in range(len(Y_pred_202)):\n",
    "    train['pred_202'][i] = Y_pred_202[i]"
   ]
  },
  {
   "cell_type": "code",
   "execution_count": 27,
   "metadata": {},
   "outputs": [
    {
     "data": {
      "text/html": [
       "<div>\n",
       "<style scoped>\n",
       "    .dataframe tbody tr th:only-of-type {\n",
       "        vertical-align: middle;\n",
       "    }\n",
       "\n",
       "    .dataframe tbody tr th {\n",
       "        vertical-align: top;\n",
       "    }\n",
       "\n",
       "    .dataframe thead th {\n",
       "        text-align: right;\n",
       "    }\n",
       "</style>\n",
       "<table border=\"1\" class=\"dataframe\">\n",
       "  <thead>\n",
       "    <tr style=\"text-align: right;\">\n",
       "      <th></th>\n",
       "      <th>Weekly_Sales</th>\n",
       "      <th>pred</th>\n",
       "      <th>Y_true</th>\n",
       "      <th>resi</th>\n",
       "      <th>pred_200</th>\n",
       "      <th>resi_200</th>\n",
       "      <th>pred_202</th>\n",
       "      <th>resi_202</th>\n",
       "    </tr>\n",
       "    <tr>\n",
       "      <th>Date</th>\n",
       "      <th></th>\n",
       "      <th></th>\n",
       "      <th></th>\n",
       "      <th></th>\n",
       "      <th></th>\n",
       "      <th></th>\n",
       "      <th></th>\n",
       "      <th></th>\n",
       "    </tr>\n",
       "  </thead>\n",
       "  <tbody>\n",
       "    <tr>\n",
       "      <th>2010-02-05</th>\n",
       "      <td>1643690.90</td>\n",
       "      <td>1543767.555421</td>\n",
       "      <td>1643690.90</td>\n",
       "      <td>99923.344579</td>\n",
       "      <td>1543767.555421</td>\n",
       "      <td>99923.344579</td>\n",
       "      <td>1543767.555434</td>\n",
       "      <td>99923.344566</td>\n",
       "    </tr>\n",
       "    <tr>\n",
       "      <th>2010-02-12</th>\n",
       "      <td>1641957.44</td>\n",
       "      <td>1575208.94247</td>\n",
       "      <td>1641957.44</td>\n",
       "      <td>66748.49753</td>\n",
       "      <td>1575335.64278</td>\n",
       "      <td>66621.79722</td>\n",
       "      <td>1567698.778764</td>\n",
       "      <td>74258.661236</td>\n",
       "    </tr>\n",
       "    <tr>\n",
       "      <th>2010-02-19</th>\n",
       "      <td>1611968.17</td>\n",
       "      <td>1574663.500491</td>\n",
       "      <td>1611968.17</td>\n",
       "      <td>37304.669509</td>\n",
       "      <td>1578843.857336</td>\n",
       "      <td>33124.312664</td>\n",
       "      <td>1563770.186507</td>\n",
       "      <td>48197.983493</td>\n",
       "    </tr>\n",
       "    <tr>\n",
       "      <th>2010-02-26</th>\n",
       "      <td>1409727.59</td>\n",
       "      <td>1565227.22462</td>\n",
       "      <td>1409727.59</td>\n",
       "      <td>-155499.63462</td>\n",
       "      <td>1569825.207588</td>\n",
       "      <td>-160097.617588</td>\n",
       "      <td>1546426.139842</td>\n",
       "      <td>-136698.549842</td>\n",
       "    </tr>\n",
       "    <tr>\n",
       "      <th>2010-03-05</th>\n",
       "      <td>1554806.68</td>\n",
       "      <td>1501591.200629</td>\n",
       "      <td>1554806.68</td>\n",
       "      <td>53215.479371</td>\n",
       "      <td>1507928.402512</td>\n",
       "      <td>46878.277488</td>\n",
       "      <td>1509593.110884</td>\n",
       "      <td>45213.569116</td>\n",
       "    </tr>\n",
       "  </tbody>\n",
       "</table>\n",
       "</div>"
      ],
      "text/plain": [
       "            Weekly_Sales            pred      Y_true          resi  \\\n",
       "Date                                                                 \n",
       "2010-02-05    1643690.90  1543767.555421  1643690.90  99923.344579   \n",
       "2010-02-12    1641957.44   1575208.94247  1641957.44   66748.49753   \n",
       "2010-02-19    1611968.17  1574663.500491  1611968.17  37304.669509   \n",
       "2010-02-26    1409727.59   1565227.22462  1409727.59 -155499.63462   \n",
       "2010-03-05    1554806.68  1501591.200629  1554806.68  53215.479371   \n",
       "\n",
       "                  pred_200       resi_200        pred_202       resi_202  \n",
       "Date                                                                      \n",
       "2010-02-05  1543767.555421   99923.344579  1543767.555434   99923.344566  \n",
       "2010-02-12   1575335.64278    66621.79722  1567698.778764   74258.661236  \n",
       "2010-02-19  1578843.857336   33124.312664  1563770.186507   48197.983493  \n",
       "2010-02-26  1569825.207588 -160097.617588  1546426.139842 -136698.549842  \n",
       "2010-03-05  1507928.402512   46878.277488  1509593.110884   45213.569116  "
      ]
     },
     "execution_count": 27,
     "metadata": {},
     "output_type": "execute_result"
    }
   ],
   "source": [
    "train['resi_202'] = train['Y_true'] - train['pred_202']\n",
    "train.head()"
   ]
  },
  {
   "cell_type": "code",
   "execution_count": 28,
   "metadata": {},
   "outputs": [
    {
     "data": {
      "text/plain": [
       "Text(0.5, 1.0, 'Residual Plot')"
      ]
     },
     "execution_count": 28,
     "metadata": {},
     "output_type": "execute_result"
    },
    {
     "data": {
      "image/png": "[encoded data removed]",
      "text/plain": [
       "<Figure size 432x288 with 1 Axes>"
      ]
     },
     "metadata": {
      "needs_background": "light"
     },
     "output_type": "display_data"
    }
   ],
   "source": [
    "plt.scatter(train.index, train['resi_202'])\n",
    "plt.title('Residual Plot')"
   ]
  },
  {
   "cell_type": "markdown",
   "metadata": {},
   "source": [
    "**8d. How do the errors and residuals change from `AR(2)` to `ARMA(2,2)`?**\n",
    "\n"
   ]
  },
  {
   "cell_type": "markdown",
   "metadata": {},
   "source": [
    "Answer: Improvement in the MSE"
   ]
  },
  {
   "cell_type": "markdown",
   "metadata": {},
   "source": [
    "#### 9. Stationary Data\n",
    "\n",
    "Remember that one assumption to using the ARIMA model is that our data are **stationary**. This is a necessary assumption for our model, and it is important for us to check for it whenever we fit a time series model.\n",
    "\n",
    "**9a. Use the Augmented Dickey-Fuller test to estimate whether or not your data are stationary.**"
   ]
  },
  {
   "cell_type": "code",
   "execution_count": 29,
   "metadata": {},
   "outputs": [
    {
     "data": {
      "text/plain": [
       "Test Statistic   -4.688682\n",
       "p-value           0.000088\n",
       "dtype: float64"
      ]
     },
     "execution_count": 29,
     "metadata": {},
     "output_type": "execute_result"
    }
   ],
   "source": [
    "# Import Augmented Dickey-Fuller Test\n",
    "from statsmodels.tsa.stattools import adfuller\n",
    "\n",
    "# Define function to easily interpret results.\n",
    "def interpret_dftest(dftest):\n",
    "    dfoutput = pd.Series(dftest[0:2], index=['Test Statistic','p-value'])\n",
    "    return dfoutput\n",
    "\n",
    "# Execute test on training data.\n",
    "interpret_dftest(adfuller(train['Weekly_Sales']))\n"
   ]
  },
  {
   "cell_type": "markdown",
   "metadata": {},
   "source": [
    "**9b. Interpret the results of the Augmented Dickey-Fuller test.**"
   ]
  },
  {
   "cell_type": "markdown",
   "metadata": {},
   "source": [
    "Answer: Data is stationary"
   ]
  },
  {
   "cell_type": "markdown",
   "metadata": {},
   "source": [
    "#### 10. Differenced Data\n",
    "\n",
    "**10a. Create new columns in your `Weekly_Sales` dataframe.**\n",
    "- One column should be `Weekly_Sales` differenced by 1 time period.\n",
    "- Another column should be `Weekly_Sales` differenced by 2 time periods.\n",
    "- Another column should be `Weekly_Sales` differenced by 3 time periods.\n",
    "- Another column should be `Weekly_Sales` differenced by 4 time periods."
   ]
  },
  {
   "cell_type": "code",
   "execution_count": 30,
   "metadata": {},
   "outputs": [
    {
     "data": {
      "text/html": [
       "<div>\n",
       "<style scoped>\n",
       "    .dataframe tbody tr th:only-of-type {\n",
       "        vertical-align: middle;\n",
       "    }\n",
       "\n",
       "    .dataframe tbody tr th {\n",
       "        vertical-align: top;\n",
       "    }\n",
       "\n",
       "    .dataframe thead th {\n",
       "        text-align: right;\n",
       "    }\n",
       "</style>\n",
       "<table border=\"1\" class=\"dataframe\">\n",
       "  <thead>\n",
       "    <tr style=\"text-align: right;\">\n",
       "      <th></th>\n",
       "      <th>Weekly_Sales</th>\n",
       "      <th>Diff1</th>\n",
       "      <th>Diff2</th>\n",
       "      <th>Diff3</th>\n",
       "      <th>Diff4</th>\n",
       "    </tr>\n",
       "    <tr>\n",
       "      <th>Date</th>\n",
       "      <th></th>\n",
       "      <th></th>\n",
       "      <th></th>\n",
       "      <th></th>\n",
       "      <th></th>\n",
       "    </tr>\n",
       "  </thead>\n",
       "  <tbody>\n",
       "    <tr>\n",
       "      <th>2010-02-05</th>\n",
       "      <td>1643690.90</td>\n",
       "      <td>NaN</td>\n",
       "      <td>NaN</td>\n",
       "      <td>NaN</td>\n",
       "      <td>NaN</td>\n",
       "    </tr>\n",
       "    <tr>\n",
       "      <th>2010-02-12</th>\n",
       "      <td>1641957.44</td>\n",
       "      <td>-1733.46</td>\n",
       "      <td>NaN</td>\n",
       "      <td>NaN</td>\n",
       "      <td>NaN</td>\n",
       "    </tr>\n",
       "    <tr>\n",
       "      <th>2010-02-19</th>\n",
       "      <td>1611968.17</td>\n",
       "      <td>-29989.27</td>\n",
       "      <td>-31722.73</td>\n",
       "      <td>NaN</td>\n",
       "      <td>NaN</td>\n",
       "    </tr>\n",
       "    <tr>\n",
       "      <th>2010-02-26</th>\n",
       "      <td>1409727.59</td>\n",
       "      <td>-202240.58</td>\n",
       "      <td>-232229.85</td>\n",
       "      <td>-233963.31</td>\n",
       "      <td>NaN</td>\n",
       "    </tr>\n",
       "    <tr>\n",
       "      <th>2010-03-05</th>\n",
       "      <td>1554806.68</td>\n",
       "      <td>145079.09</td>\n",
       "      <td>-57161.49</td>\n",
       "      <td>-87150.76</td>\n",
       "      <td>-88884.22</td>\n",
       "    </tr>\n",
       "  </tbody>\n",
       "</table>\n",
       "</div>"
      ],
      "text/plain": [
       "            Weekly_Sales      Diff1      Diff2      Diff3     Diff4\n",
       "Date                                                               \n",
       "2010-02-05    1643690.90        NaN        NaN        NaN       NaN\n",
       "2010-02-12    1641957.44   -1733.46        NaN        NaN       NaN\n",
       "2010-02-19    1611968.17  -29989.27  -31722.73        NaN       NaN\n",
       "2010-02-26    1409727.59 -202240.58 -232229.85 -233963.31       NaN\n",
       "2010-03-05    1554806.68  145079.09  -57161.49  -87150.76 -88884.22"
      ]
     },
     "execution_count": 30,
     "metadata": {},
     "output_type": "execute_result"
    }
   ],
   "source": [
    "Weekly_Sales['Diff1'] = Weekly_Sales['Weekly_Sales'].diff(1)\n",
    "Weekly_Sales['Diff2'] = Weekly_Sales['Weekly_Sales'].diff(2)\n",
    "Weekly_Sales['Diff3'] = Weekly_Sales['Weekly_Sales'].diff(3)\n",
    "Weekly_Sales['Diff4'] = Weekly_Sales['Weekly_Sales'].diff(4)\n",
    "Weekly_Sales.head()"
   ]
  },
  {
   "cell_type": "markdown",
   "metadata": {},
   "source": [
    "**10b. Conduct and interpret the Augmented Dickey-Fuller test on each differenced column to test for stationarity.**"
   ]
  },
  {
   "cell_type": "code",
   "execution_count": 31,
   "metadata": {},
   "outputs": [
    {
     "data": {
      "text/plain": [
       "Test Statistic   -7.261575e+00\n",
       "p-value           1.676180e-10\n",
       "dtype: float64"
      ]
     },
     "execution_count": 31,
     "metadata": {},
     "output_type": "execute_result"
    }
   ],
   "source": [
    "interpret_dftest(adfuller(Weekly_Sales['Diff1'][1:]))"
   ]
  },
  {
   "cell_type": "code",
   "execution_count": 32,
   "metadata": {},
   "outputs": [
    {
     "data": {
      "text/plain": [
       "Test Statistic   -6.206249e+00\n",
       "p-value           5.648528e-08\n",
       "dtype: float64"
      ]
     },
     "execution_count": 32,
     "metadata": {},
     "output_type": "execute_result"
    }
   ],
   "source": [
    "interpret_dftest(adfuller(Weekly_Sales['Diff2'][2:]))"
   ]
  },
  {
   "cell_type": "code",
   "execution_count": 33,
   "metadata": {},
   "outputs": [
    {
     "data": {
      "text/plain": [
       "Test Statistic   -5.160622\n",
       "p-value           0.000011\n",
       "dtype: float64"
      ]
     },
     "execution_count": 33,
     "metadata": {},
     "output_type": "execute_result"
    }
   ],
   "source": [
    "interpret_dftest(adfuller(Weekly_Sales['Diff3'][3:]))"
   ]
  },
  {
   "cell_type": "code",
   "execution_count": 34,
   "metadata": {},
   "outputs": [
    {
     "data": {
      "text/plain": [
       "Test Statistic   -6.856819e+00\n",
       "p-value           1.640394e-09\n",
       "dtype: float64"
      ]
     },
     "execution_count": 34,
     "metadata": {},
     "output_type": "execute_result"
    }
   ],
   "source": [
    "interpret_dftest(adfuller(Weekly_Sales['Diff4'][4:]))"
   ]
  },
  {
   "cell_type": "markdown",
   "metadata": {},
   "source": [
    "**10c. For which (if any) of the columns does it seem meaningful to have differenced the data?**"
   ]
  },
  {
   "cell_type": "markdown",
   "metadata": {},
   "source": [
    "Answer: None since all p-values are small"
   ]
  },
  {
   "cell_type": "markdown",
   "metadata": {},
   "source": [
    "**10d. Based on these tests and the ACF/PACF plots above, do you think that using an Integrated AutoRegressive Moving Average (ARIMA) model makes sense? Why or why not?**"
   ]
  },
  {
   "cell_type": "markdown",
   "metadata": {},
   "source": [
    "Answer:"
   ]
  },
  {
   "cell_type": "markdown",
   "metadata": {},
   "source": [
    "#### 11.  ARIMA MODEL\n",
    "\n",
    "Based on your interpretation of the results from your tests for stationarity, and information gleaned from your ACF and PACF plots, choose a value of `d` to use in the `ARIMA(2,d,2)`.\n",
    "\n",
    "**11a. Fit an `ARIMA(2,d,2)` model for the value of `d` you have chosen. Evaluate your model on the training and testing sets and generate a residual plot.**"
   ]
  },
  {
   "cell_type": "code",
   "execution_count": 35,
   "metadata": {},
   "outputs": [
    {
     "data": {
      "text/plain": [
       "79207889196.38847"
      ]
     },
     "execution_count": 35,
     "metadata": {},
     "output_type": "execute_result"
    }
   ],
   "source": [
    "#Since all the differenced columns are stationary, randomly choose d=2 for this case\n",
    "arima_222 = sm.tsa.arima.ARIMA(train['Weekly_Sales'], order=(2, 2, 2)).fit()\n",
    "Y_pred_222 = arima_222.predict()\n",
    "mean_squared_error(Y_true,Y_pred_222)"
   ]
  },
  {
   "cell_type": "code",
   "execution_count": 36,
   "metadata": {},
   "outputs": [],
   "source": [
    "train['pred_222'] = ''\n",
    "for i in range(len(Y_pred_222)):\n",
    "    train['pred_222'][i] = Y_pred_222[i]"
   ]
  },
  {
   "cell_type": "code",
   "execution_count": 37,
   "metadata": {},
   "outputs": [
    {
     "data": {
      "text/html": [
       "<div>\n",
       "<style scoped>\n",
       "    .dataframe tbody tr th:only-of-type {\n",
       "        vertical-align: middle;\n",
       "    }\n",
       "\n",
       "    .dataframe tbody tr th {\n",
       "        vertical-align: top;\n",
       "    }\n",
       "\n",
       "    .dataframe thead th {\n",
       "        text-align: right;\n",
       "    }\n",
       "</style>\n",
       "<table border=\"1\" class=\"dataframe\">\n",
       "  <thead>\n",
       "    <tr style=\"text-align: right;\">\n",
       "      <th></th>\n",
       "      <th>Weekly_Sales</th>\n",
       "      <th>pred</th>\n",
       "      <th>Y_true</th>\n",
       "      <th>resi</th>\n",
       "      <th>pred_200</th>\n",
       "      <th>resi_200</th>\n",
       "      <th>pred_202</th>\n",
       "      <th>resi_202</th>\n",
       "      <th>pred_222</th>\n",
       "      <th>resi_222</th>\n",
       "    </tr>\n",
       "    <tr>\n",
       "      <th>Date</th>\n",
       "      <th></th>\n",
       "      <th></th>\n",
       "      <th></th>\n",
       "      <th></th>\n",
       "      <th></th>\n",
       "      <th></th>\n",
       "      <th></th>\n",
       "      <th></th>\n",
       "      <th></th>\n",
       "      <th></th>\n",
       "    </tr>\n",
       "  </thead>\n",
       "  <tbody>\n",
       "    <tr>\n",
       "      <th>2010-02-05</th>\n",
       "      <td>1643690.90</td>\n",
       "      <td>1543767.555421</td>\n",
       "      <td>1643690.90</td>\n",
       "      <td>99923.344579</td>\n",
       "      <td>1543767.555421</td>\n",
       "      <td>99923.344579</td>\n",
       "      <td>1543767.555434</td>\n",
       "      <td>99923.344566</td>\n",
       "      <td>0.0</td>\n",
       "      <td>1643690.9</td>\n",
       "    </tr>\n",
       "    <tr>\n",
       "      <th>2010-02-12</th>\n",
       "      <td>1641957.44</td>\n",
       "      <td>1575208.94247</td>\n",
       "      <td>1641957.44</td>\n",
       "      <td>66748.49753</td>\n",
       "      <td>1575335.64278</td>\n",
       "      <td>66621.79722</td>\n",
       "      <td>1567698.778764</td>\n",
       "      <td>74258.661236</td>\n",
       "      <td>2390625.924318</td>\n",
       "      <td>-748668.484318</td>\n",
       "    </tr>\n",
       "    <tr>\n",
       "      <th>2010-02-19</th>\n",
       "      <td>1611968.17</td>\n",
       "      <td>1574663.500491</td>\n",
       "      <td>1611968.17</td>\n",
       "      <td>37304.669509</td>\n",
       "      <td>1578843.857336</td>\n",
       "      <td>33124.312664</td>\n",
       "      <td>1563770.186507</td>\n",
       "      <td>48197.983493</td>\n",
       "      <td>2320391.172621</td>\n",
       "      <td>-708423.002621</td>\n",
       "    </tr>\n",
       "    <tr>\n",
       "      <th>2010-02-26</th>\n",
       "      <td>1409727.59</td>\n",
       "      <td>1565227.22462</td>\n",
       "      <td>1409727.59</td>\n",
       "      <td>-155499.63462</td>\n",
       "      <td>1569825.207588</td>\n",
       "      <td>-160097.617588</td>\n",
       "      <td>1546426.139842</td>\n",
       "      <td>-136698.549842</td>\n",
       "      <td>1946261.360824</td>\n",
       "      <td>-536533.770824</td>\n",
       "    </tr>\n",
       "    <tr>\n",
       "      <th>2010-03-05</th>\n",
       "      <td>1554806.68</td>\n",
       "      <td>1501591.200629</td>\n",
       "      <td>1554806.68</td>\n",
       "      <td>53215.479371</td>\n",
       "      <td>1507928.402512</td>\n",
       "      <td>46878.277488</td>\n",
       "      <td>1509593.110884</td>\n",
       "      <td>45213.569116</td>\n",
       "      <td>1776737.763185</td>\n",
       "      <td>-221931.083185</td>\n",
       "    </tr>\n",
       "  </tbody>\n",
       "</table>\n",
       "</div>"
      ],
      "text/plain": [
       "            Weekly_Sales            pred      Y_true          resi  \\\n",
       "Date                                                                 \n",
       "2010-02-05    1643690.90  1543767.555421  1643690.90  99923.344579   \n",
       "2010-02-12    1641957.44   1575208.94247  1641957.44   66748.49753   \n",
       "2010-02-19    1611968.17  1574663.500491  1611968.17  37304.669509   \n",
       "2010-02-26    1409727.59   1565227.22462  1409727.59 -155499.63462   \n",
       "2010-03-05    1554806.68  1501591.200629  1554806.68  53215.479371   \n",
       "\n",
       "                  pred_200       resi_200        pred_202       resi_202  \\\n",
       "Date                                                                       \n",
       "2010-02-05  1543767.555421   99923.344579  1543767.555434   99923.344566   \n",
       "2010-02-12   1575335.64278    66621.79722  1567698.778764   74258.661236   \n",
       "2010-02-19  1578843.857336   33124.312664  1563770.186507   48197.983493   \n",
       "2010-02-26  1569825.207588 -160097.617588  1546426.139842 -136698.549842   \n",
       "2010-03-05  1507928.402512   46878.277488  1509593.110884   45213.569116   \n",
       "\n",
       "                  pred_222       resi_222  \n",
       "Date                                       \n",
       "2010-02-05             0.0      1643690.9  \n",
       "2010-02-12  2390625.924318 -748668.484318  \n",
       "2010-02-19  2320391.172621 -708423.002621  \n",
       "2010-02-26  1946261.360824 -536533.770824  \n",
       "2010-03-05  1776737.763185 -221931.083185  "
      ]
     },
     "execution_count": 37,
     "metadata": {},
     "output_type": "execute_result"
    }
   ],
   "source": [
    "train['resi_222'] = train['Y_true'] - train['pred_222']\n",
    "train.head()"
   ]
  },
  {
   "cell_type": "code",
   "execution_count": 38,
   "metadata": {},
   "outputs": [
    {
     "data": {
      "text/plain": [
       "Text(0.5, 1.0, 'Residual Plot')"
      ]
     },
     "execution_count": 38,
     "metadata": {},
     "output_type": "execute_result"
    },
    {
     "data": {
      "image/png": "[encoded data removed]",
      "text/plain": [
       "<Figure size 432x288 with 1 Axes>"
      ]
     },
     "metadata": {
      "needs_background": "light"
     },
     "output_type": "display_data"
    }
   ],
   "source": [
    "plt.scatter(train.index, train['resi_222'])\n",
    "plt.title('Residual Plot')"
   ]
  },
  {
   "cell_type": "markdown",
   "metadata": {},
   "source": [
    "**11b. Interpret the results from the last answer.**\n"
   ]
  },
  {
   "cell_type": "markdown",
   "metadata": {},
   "source": [
    "Answer:"
   ]
  },
  {
   "cell_type": "markdown",
   "metadata": {},
   "source": [
    "#### 12.  SARIMAX Model\n",
    "We have looked at autocorrelation of neighboring values (i.e. comparing $Y_t$ to $Y_{t-1}$ or $Y_t$ to $Y_{t-4}$). However, what about seasonal affects on our data? How might the sales today be related to sales 6 months ago or a year ago?\n",
    "\n",
    "Let's build a SARIMAX model!\n",
    "\n",
    "**12a. Using `PACF` and `ACF` plots with appropriate intervals (think months in a year) try to build the best SARIMAX model you can in setting the `seasonal_order = (P, D, Q, S)` and using `order = (2, 0, 2)`, fit and evaluate the model as we have done in the prior models**."
   ]
  },
  {
   "cell_type": "code",
   "execution_count": 39,
   "metadata": {},
   "outputs": [],
   "source": [
    "from statsmodels.tsa.statespace.sarimax import SARIMAX"
   ]
  },
  {
   "cell_type": "code",
   "execution_count": 40,
   "metadata": {},
   "outputs": [
    {
     "name": "stdout",
     "output_type": "stream",
     "text": [
      "53397235061.36464\n"
     ]
    }
   ],
   "source": [
    "# Fit a SARIMA(1, 0, 0) x (1, 0, 0, 16) model.\n",
    "\n",
    "sarima = SARIMAX(endog = train['Weekly_Sales'],\n",
    "                 order = (2, 0, 2),              # (p, d, q)\n",
    "                 seasonal_order = (1, 0, 0, 16)) # (P, D, Q, S)\n",
    "\n",
    "# Fit SARIMA model.\n",
    "model = sarima.fit()\n",
    "\n",
    "# Generate predictions based on test set.\n",
    "# Start at time period 150 and end at 187.\n",
    "preds_sarima = model.predict()\n",
    "\n",
    "# Evaluate predictions.\n",
    "print(mean_squared_error(train['Weekly_Sales'], preds_sarima))\n"
   ]
  },
  {
   "cell_type": "code",
   "execution_count": 43,
   "metadata": {},
   "outputs": [
    {
     "name": "stdout",
     "output_type": "stream",
     "text": [
      "The MSE for (2, 0, 2)x(0,0,0,0) is: 53430450465.214676\n",
      "The MSE for (2, 0, 2)x(0,0,0,2) is: 53430450465.214676\n",
      "The MSE for (2, 0, 2)x(0,0,0,3) is: 53430450465.214676\n",
      "The MSE for (2, 0, 2)x(0,0,0,4) is: 53430450465.214676\n",
      "The MSE for (2, 0, 2)x(0,1,0,2) is: 70774473732.57942\n",
      "The MSE for (2, 0, 2)x(0,1,0,3) is: 86069935996.50471\n",
      "The MSE for (2, 0, 2)x(0,1,0,4) is: 86767201315.9751\n",
      "The MSE for (2, 0, 2)x(0,2,0,2) is: 106267701424.59624\n",
      "The MSE for (2, 0, 2)x(0,2,0,3) is: 172082794162.0157\n",
      "The MSE for (2, 0, 2)x(0,2,0,4) is: 156452047058.20428\n",
      "The MSE for (2, 0, 2)x(0,3,0,2) is: 4071108407384347.5\n",
      "The MSE for (2, 0, 2)x(0,3,0,3) is: 2.8198923648306876e+16\n",
      "The MSE for (2, 0, 2)x(0,3,0,4) is: 2884107034356811.5\n",
      "The MSE for (2, 0, 2)x(0,4,0,2) is: 1.2483584836666686e+16\n",
      "The MSE for (2, 0, 2)x(0,4,0,3) is: 1.3460670321646672e+17\n",
      "The MSE for (2, 0, 2)x(0,0,1,3) is: 53316220647.64728\n",
      "The MSE for (2, 0, 2)x(0,0,1,4) is: 53175017011.10534\n",
      "The MSE for (2, 0, 2)x(0,1,1,3) is: 88205192075.82861\n",
      "The MSE for (2, 0, 2)x(0,1,1,4) is: 91165373643.76064\n",
      "The MSE for (2, 0, 2)x(0,2,1,3) is: 124772275297.687\n",
      "The MSE for (2, 0, 2)x(0,2,1,4) is: 118620633352.81514\n",
      "The MSE for (2, 0, 2)x(0,3,1,3) is: 5.9342467058379624e+16\n",
      "The MSE for (2, 0, 2)x(0,3,1,4) is: 2531959642168117.5\n",
      "The MSE for (2, 0, 2)x(0,4,1,3) is: 9.666370975552952e+16\n",
      "The MSE for (2, 0, 2)x(0,0,2,3) is: 51403440689.82442\n",
      "The MSE for (2, 0, 2)x(0,0,2,4) is: 53090893525.68448\n",
      "The MSE for (2, 0, 2)x(0,1,2,3) is: 88100436009.69987\n",
      "The MSE for (2, 0, 2)x(0,1,2,4) is: 87354588423.16022\n",
      "The MSE for (2, 0, 2)x(0,2,2,3) is: 129722967015.77026\n",
      "The MSE for (2, 0, 2)x(0,2,2,4) is: 120179195804.64293\n",
      "The MSE for (2, 0, 2)x(0,3,2,3) is: 1.2748831884642537e+23\n",
      "The MSE for (2, 0, 2)x(0,3,2,4) is: 2349658724727059.0\n",
      "The MSE for (2, 0, 2)x(0,4,2,3) is: 9.699799593686736e+16\n",
      "The MSE for (2, 0, 2)x(0,4,2,4) is: 5.693427675927947e+16\n",
      "The MSE for (2, 0, 2)x(0,0,3,3) is: 51268397102.21435\n",
      "The MSE for (2, 0, 2)x(0,0,3,4) is: 53095532736.50431\n",
      "The MSE for (2, 0, 2)x(0,1,3,3) is: 87847495247.59772\n",
      "The MSE for (2, 0, 2)x(0,1,3,4) is: 86608849694.23828\n",
      "The MSE for (2, 0, 2)x(0,2,3,3) is: 128525831990.17763\n",
      "The MSE for (2, 0, 2)x(0,2,3,4) is: 116149960270.46548\n",
      "The MSE for (2, 0, 2)x(0,3,3,3) is: 9.863673915010495e+19\n",
      "The MSE for (2, 0, 2)x(0,3,3,4) is: 2286400337519231.5\n",
      "The MSE for (2, 0, 2)x(0,4,3,3) is: 9.772176360736544e+16\n",
      "The MSE for (2, 0, 2)x(0,4,3,4) is: 6.409747283309532e+16\n",
      "The MSE for (2, 0, 2)x(0,0,4,3) is: 51223306997.38794\n",
      "The MSE for (2, 0, 2)x(0,0,4,4) is: 53054291299.08352\n",
      "The MSE for (2, 0, 2)x(0,1,4,3) is: 87839749643.5768\n",
      "The MSE for (2, 0, 2)x(0,1,4,4) is: 86391286418.4504\n",
      "The MSE for (2, 0, 2)x(0,2,4,3) is: 129230594175.63205\n",
      "The MSE for (2, 0, 2)x(0,2,4,4) is: 115794943142.88226\n",
      "The MSE for (2, 0, 2)x(0,3,4,3) is: 3.8862548478877496e+16\n",
      "The MSE for (2, 0, 2)x(0,3,4,4) is: 1.5339895888410252e+21\n",
      "The MSE for (2, 0, 2)x(0,4,4,3) is: 9.738208605350523e+16\n",
      "The MSE for (2, 0, 2)x(0,4,4,4) is: 6.829376281342889e+16\n",
      "The MSE for (2, 0, 2)x(1,0,0,3) is: 55924011988.68618\n",
      "The MSE for (2, 0, 2)x(1,0,0,4) is: 65865300211.48917\n",
      "The MSE for (2, 0, 2)x(1,1,0,3) is: 87497726374.57283\n",
      "The MSE for (2, 0, 2)x(1,1,0,4) is: 88237480755.28429\n",
      "The MSE for (2, 0, 2)x(1,2,0,3) is: 144756670103.70096\n",
      "The MSE for (2, 0, 2)x(1,2,0,4) is: 140882148186.14563\n",
      "The MSE for (2, 0, 2)x(1,3,0,3) is: 1.6411423726438398e+16\n",
      "The MSE for (2, 0, 2)x(1,3,0,4) is: 2185454686698772.0\n",
      "The MSE for (2, 0, 2)x(1,4,0,3) is: 1.3832650625643666e+17\n",
      "The MSE for (2, 0, 2)x(1,4,0,4) is: 9.45977703739223e+16\n",
      "The MSE for (2, 0, 2)x(1,0,1,3) is: 57195054130.21121\n",
      "The MSE for (2, 0, 2)x(1,0,1,4) is: 52540044805.166954\n",
      "The MSE for (2, 0, 2)x(1,1,1,3) is: 87710186519.61526\n",
      "The MSE for (2, 0, 2)x(1,1,1,4) is: 86416545418.36179\n",
      "The MSE for (2, 0, 2)x(1,2,1,3) is: 127775527290.78406\n",
      "The MSE for (2, 0, 2)x(1,2,1,4) is: 118851304780.48663\n",
      "The MSE for (2, 0, 2)x(1,3,1,3) is: 1.3038727738229384e+16\n",
      "The MSE for (2, 0, 2)x(1,3,1,4) is: 2144090209892003.5\n",
      "The MSE for (2, 0, 2)x(1,4,1,3) is: 1.2558598977525061e+17\n",
      "The MSE for (2, 0, 2)x(1,4,1,4) is: 5.973090708719515e+16\n",
      "The MSE for (2, 0, 2)x(1,0,2,3) is: 51173736718.61472\n",
      "The MSE for (2, 0, 2)x(1,0,2,4) is: 52882311183.861465\n",
      "The MSE for (2, 0, 2)x(1,1,2,3) is: 87762255898.7037\n",
      "The MSE for (2, 0, 2)x(1,1,2,4) is: 86335144460.84961\n",
      "The MSE for (2, 0, 2)x(1,2,2,3) is: 129573395162.22194\n",
      "The MSE for (2, 0, 2)x(1,2,2,4) is: 118065112616.29588\n",
      "The MSE for (2, 0, 2)x(1,3,2,3) is: 7880272837597822.0\n",
      "The MSE for (2, 0, 2)x(1,4,2,3) is: 1.2231599770779866e+17\n",
      "The MSE for (2, 0, 2)x(1,4,2,4) is: 5.419305740783166e+21\n",
      "The MSE for (2, 0, 2)x(1,0,3,3) is: 51331469716.6866\n",
      "The MSE for (2, 0, 2)x(1,0,3,4) is: 52087147837.3238\n",
      "The MSE for (2, 0, 2)x(1,1,3,3) is: 87871947941.1091\n",
      "The MSE for (2, 0, 2)x(1,1,3,4) is: 86369717946.85596\n",
      "The MSE for (2, 0, 2)x(1,2,3,3) is: 128890258775.82857\n",
      "The MSE for (2, 0, 2)x(1,2,3,4) is: 119019683646.84642\n",
      "The MSE for (2, 0, 2)x(1,3,3,3) is: 2.0147200216440812e+16\n",
      "The MSE for (2, 0, 2)x(1,4,3,3) is: 1.1930032540457568e+17\n",
      "The MSE for (2, 0, 2)x(1,4,3,4) is: 9.506920036543446e+16\n",
      "The MSE for (2, 0, 2)x(1,0,4,3) is: 51119972499.87385\n",
      "The MSE for (2, 0, 2)x(1,0,4,4) is: 51000406751.40736\n",
      "The MSE for (2, 0, 2)x(1,1,4,3) is: 87687307443.16557\n",
      "The MSE for (2, 0, 2)x(1,1,4,4) is: 86461737451.6569\n",
      "The MSE for (2, 0, 2)x(1,2,4,3) is: 129068438210.12094\n",
      "The MSE for (2, 0, 2)x(1,2,4,4) is: 116277165682.67445\n",
      "The MSE for (2, 0, 2)x(1,3,4,3) is: 4847114609140488.0\n",
      "The MSE for (2, 0, 2)x(1,3,4,4) is: 411242160027654.0\n",
      "The MSE for (2, 0, 2)x(1,4,4,4) is: 7.503829469647498e+16\n",
      "The MSE for (2, 0, 2)x(2,0,0,3) is: 53700909451.97201\n",
      "The MSE for (2, 0, 2)x(2,0,0,4) is: 108356305739.98631\n",
      "The MSE for (2, 0, 2)x(2,1,0,3) is: 88103117683.11366\n",
      "The MSE for (2, 0, 2)x(2,1,0,4) is: 87848362843.13022\n",
      "The MSE for (2, 0, 2)x(2,2,0,3) is: 136799728950.54614\n",
      "The MSE for (2, 0, 2)x(2,2,0,4) is: 133805715560.08752\n",
      "The MSE for (2, 0, 2)x(2,3,0,3) is: 7189186007211321.0\n",
      "The MSE for (2, 0, 2)x(2,3,0,4) is: 1.1802949656168102e+22\n",
      "The MSE for (2, 0, 2)x(2,4,0,3) is: 1.2948498329351186e+17\n",
      "The MSE for (2, 0, 2)x(2,4,0,4) is: 1.850538664732577e+20\n",
      "The MSE for (2, 0, 2)x(2,0,1,3) is: 51227285451.4947\n",
      "The MSE for (2, 0, 2)x(2,0,1,4) is: 52531483601.1915\n",
      "The MSE for (2, 0, 2)x(2,1,1,3) is: 87753149040.44058\n",
      "The MSE for (2, 0, 2)x(2,1,1,4) is: 86258768664.76443\n",
      "The MSE for (2, 0, 2)x(2,2,1,3) is: 129386802712.23439\n",
      "The MSE for (2, 0, 2)x(2,2,1,4) is: 117461496989.80602\n",
      "The MSE for (2, 0, 2)x(2,4,1,3) is: 1.3670912652472933e+17\n",
      "The MSE for (2, 0, 2)x(2,4,1,4) is: 2411928803573.773\n",
      "The MSE for (2, 0, 2)x(2,0,2,3) is: 51162092503.28949\n",
      "The MSE for (2, 0, 2)x(2,0,2,4) is: 49377184299.74913\n",
      "The MSE for (2, 0, 2)x(2,1,2,3) is: 87745037815.20425\n",
      "The MSE for (2, 0, 2)x(2,1,2,4) is: 86375371637.04462\n",
      "The MSE for (2, 0, 2)x(2,2,2,3) is: 129048587238.53137\n",
      "The MSE for (2, 0, 2)x(2,4,2,3) is: 7.035200988914167e+23\n",
      "The MSE for (2, 0, 2)x(2,4,2,4) is: 2411928803573.773\n",
      "The MSE for (2, 0, 2)x(2,0,3,3) is: 53376277129.290474\n",
      "The MSE for (2, 0, 2)x(2,0,3,4) is: 51434643541.38073\n",
      "The MSE for (2, 0, 2)x(2,1,3,3) is: 87676996524.12341\n",
      "The MSE for (2, 0, 2)x(2,1,3,4) is: 86336350809.84499\n",
      "The MSE for (2, 0, 2)x(2,2,3,3) is: 129665503572.1976\n",
      "The MSE for (2, 0, 2)x(2,2,3,4) is: 116755785108.4359\n",
      "The MSE for (2, 0, 2)x(2,3,3,3) is: 6508811059116392.0\n",
      "The MSE for (2, 0, 2)x(2,4,3,3) is: 1.0113311361877344e+17\n",
      "The MSE for (2, 0, 2)x(2,4,3,4) is: 1.0256198108155846e+17\n",
      "The MSE for (2, 0, 2)x(2,0,4,3) is: 51545978260.65563\n",
      "The MSE for (2, 0, 2)x(2,0,4,4) is: 51777812182.32293\n",
      "The MSE for (2, 0, 2)x(2,1,4,3) is: 87596085825.6359\n",
      "The MSE for (2, 0, 2)x(2,1,4,4) is: 88280005538.57619\n",
      "The MSE for (2, 0, 2)x(2,2,4,3) is: 129066795533.77826\n",
      "The MSE for (2, 0, 2)x(2,2,4,4) is: 117435789050.3085\n",
      "The MSE for (2, 0, 2)x(2,3,4,4) is: 25040384266542.88\n",
      "The MSE for (2, 0, 2)x(2,4,4,4) is: 2411928803573.773\n",
      "The MSE for (2, 0, 2)x(3,0,0,3) is: 51629272994.40834\n",
      "The MSE for (2, 0, 2)x(3,0,0,4) is: 53119246851.253494\n",
      "The MSE for (2, 0, 2)x(3,1,0,3) is: 87957027244.90108\n",
      "The MSE for (2, 0, 2)x(3,1,0,4) is: 86898541181.0515\n",
      "The MSE for (2, 0, 2)x(3,2,0,3) is: 132601155487.99469\n",
      "The MSE for (2, 0, 2)x(3,2,0,4) is: 126298696626.21611\n",
      "The MSE for (2, 0, 2)x(3,3,0,3) is: 2411928803573.773\n"
     ]
    },
    {
     "name": "stdout",
     "output_type": "stream",
     "text": [
      "The MSE for (2, 0, 2)x(3,3,0,4) is: 2253292164276925.5\n",
      "The MSE for (2, 0, 2)x(3,4,0,4) is: 9.821680439226976e+16\n",
      "The MSE for (2, 0, 2)x(3,0,1,3) is: 51743668059.25589\n",
      "The MSE for (2, 0, 2)x(3,0,1,4) is: 52172436432.701805\n",
      "The MSE for (2, 0, 2)x(3,1,1,3) is: 87721931299.78468\n",
      "The MSE for (2, 0, 2)x(3,1,1,4) is: 87131928879.05307\n",
      "The MSE for (2, 0, 2)x(3,2,1,3) is: 129091824752.40486\n",
      "The MSE for (2, 0, 2)x(3,2,1,4) is: 117109139962.48692\n",
      "The MSE for (2, 0, 2)x(3,3,1,3) is: 2411928803573.773\n",
      "The MSE for (2, 0, 2)x(3,4,1,3) is: 1.4457903361990653e+17\n",
      "The MSE for (2, 0, 2)x(3,4,1,4) is: 9.716280350719656e+16\n",
      "The MSE for (2, 0, 2)x(3,0,2,3) is: 51182332783.29614\n",
      "The MSE for (2, 0, 2)x(3,0,2,4) is: 49985041982.55698\n",
      "The MSE for (2, 0, 2)x(3,1,2,3) is: 87756095938.40002\n",
      "The MSE for (2, 0, 2)x(3,1,2,4) is: 85935579272.6291\n",
      "The MSE for (2, 0, 2)x(3,2,2,3) is: 129037688382.18149\n",
      "The MSE for (2, 0, 2)x(3,2,2,4) is: 117522646250.43546\n",
      "The MSE for (2, 0, 2)x(3,3,2,3) is: 4993867608534185.0\n",
      "The MSE for (2, 0, 2)x(3,4,2,3) is: 2411928803573.773\n",
      "The MSE for (2, 0, 2)x(3,0,3,3) is: 52414294903.88718\n",
      "The MSE for (2, 0, 2)x(3,0,3,4) is: 50974769157.95378\n",
      "The MSE for (2, 0, 2)x(3,1,3,3) is: 87771402747.03542\n",
      "The MSE for (2, 0, 2)x(3,1,3,4) is: 86474008545.07397\n",
      "The MSE for (2, 0, 2)x(3,2,3,3) is: 128994828775.83043\n",
      "The MSE for (2, 0, 2)x(3,2,3,4) is: 117608417057.33383\n",
      "The MSE for (2, 0, 2)x(3,3,3,3) is: 2411928803573.773\n",
      "The MSE for (2, 0, 2)x(3,3,3,4) is: 12789343915024.555\n",
      "The MSE for (2, 0, 2)x(3,4,3,3) is: 5.656614024277142e+18\n",
      "The MSE for (2, 0, 2)x(3,4,3,4) is: 1.0242271891357243e+24\n",
      "The MSE for (2, 0, 2)x(3,0,4,3) is: 51244577458.79333\n",
      "The MSE for (2, 0, 2)x(3,0,4,4) is: 50847089341.16886\n",
      "The MSE for (2, 0, 2)x(3,1,4,3) is: 88273062147.30177\n",
      "The MSE for (2, 0, 2)x(3,1,4,4) is: 86029871327.34595\n",
      "The MSE for (2, 0, 2)x(3,2,4,3) is: 128990377080.79663\n",
      "The MSE for (2, 0, 2)x(3,2,4,4) is: 118067917085.01031\n",
      "The MSE for (2, 0, 2)x(3,4,4,3) is: 1.2946600493323723e+17\n",
      "The MSE for (2, 0, 2)x(4,0,0,3) is: 51494949139.590996\n",
      "The MSE for (2, 0, 2)x(4,0,0,4) is: 49562843440.46466\n",
      "The MSE for (2, 0, 2)x(4,1,0,3) is: 87909907206.03215\n",
      "The MSE for (2, 0, 2)x(4,1,0,4) is: 86422542641.7288\n",
      "The MSE for (2, 0, 2)x(4,2,0,3) is: 131514351404.57645\n",
      "The MSE for (2, 0, 2)x(4,2,0,4) is: 120812461668.26134\n",
      "The MSE for (2, 0, 2)x(4,3,0,3) is: 2411928803573.773\n",
      "The MSE for (2, 0, 2)x(4,4,0,3) is: 1.8196511813298836e+22\n",
      "The MSE for (2, 0, 2)x(4,4,0,4) is: 2411928803573.773\n",
      "The MSE for (2, 0, 2)x(4,0,1,3) is: 51664344798.08956\n",
      "The MSE for (2, 0, 2)x(4,0,1,4) is: 57646487348.91857\n",
      "The MSE for (2, 0, 2)x(4,1,1,3) is: 87680922534.59079\n",
      "The MSE for (2, 0, 2)x(4,1,1,4) is: 86485539153.26797\n",
      "The MSE for (2, 0, 2)x(4,2,1,3) is: 129088763058.3007\n",
      "The MSE for (2, 0, 2)x(4,2,1,4) is: 117549267614.46259\n",
      "The MSE for (2, 0, 2)x(4,3,1,4) is: 14376994575994.621\n",
      "The MSE for (2, 0, 2)x(4,4,1,3) is: 2411928803573.773\n",
      "The MSE for (2, 0, 2)x(4,4,1,4) is: 9.867276901642632e+16\n",
      "The MSE for (2, 0, 2)x(4,0,2,3) is: 51891177703.65886\n",
      "The MSE for (2, 0, 2)x(4,0,2,4) is: 51345418137.185394\n",
      "The MSE for (2, 0, 2)x(4,1,2,3) is: 87640850701.79391\n",
      "The MSE for (2, 0, 2)x(4,1,2,4) is: 86222079589.85988\n",
      "The MSE for (2, 0, 2)x(4,2,2,3) is: 129092988590.79718\n",
      "The MSE for (2, 0, 2)x(4,2,2,4) is: 118320946331.00835\n",
      "The MSE for (2, 0, 2)x(4,3,2,4) is: 10514146116461.902\n",
      "The MSE for (2, 0, 2)x(4,0,3,3) is: 52100675818.90615\n",
      "The MSE for (2, 0, 2)x(4,0,3,4) is: 50963697991.994965\n",
      "The MSE for (2, 0, 2)x(4,1,3,3) is: 87703249860.6253\n",
      "The MSE for (2, 0, 2)x(4,1,3,4) is: 98391996635.4159\n",
      "The MSE for (2, 0, 2)x(4,2,3,3) is: 132180101531.82143\n",
      "The MSE for (2, 0, 2)x(4,2,3,4) is: 117757060765.4211\n",
      "The MSE for (2, 0, 2)x(4,4,3,3) is: 3.683468589904608e+21\n",
      "The MSE for (2, 0, 2)x(4,4,3,4) is: 1.4931654616838403e+20\n",
      "The MSE for (2, 0, 2)x(4,0,4,3) is: 50654307780.35918\n",
      "The MSE for (2, 0, 2)x(4,0,4,4) is: 50216427360.873\n",
      "The MSE for (2, 0, 2)x(4,1,4,3) is: 87723068992.74934\n",
      "The MSE for (2, 0, 2)x(4,1,4,4) is: 99719919277.076\n",
      "The MSE for (2, 0, 2)x(4,2,4,3) is: 131219921572.4628\n",
      "The MSE for (2, 0, 2)x(4,2,4,4) is: 123172885307.2787\n",
      "The MSE for (2, 0, 2)x(4,3,4,3) is: 2411928803573.773\n",
      "The MSE for (2, 0, 2)x(4,3,4,4) is: 24069628489041.445\n",
      "The MSE for (2, 0, 2)x(4,4,4,3) is: 2411928803573.773\n",
      "Our model that minimizes MSE on the training data is the SARIMA(2, 0, 2)x(0,0,0,0).\n",
      "This model has an MSE of 990000000000000000.\n"
     ]
    }
   ],
   "source": [
    "mse = 99 * (10 ** 16)\n",
    "final_P = 0\n",
    "final_D = 0\n",
    "final_Q = 0\n",
    "final_S = 0\n",
    "\n",
    "\n",
    "for P in range(5):\n",
    "    for Q in range(5):\n",
    "        for D in range(5):\n",
    "            for S in range(5):\n",
    "                try:\n",
    "                    # Instantiate SARIMA model.\n",
    "                    sarima = SARIMAX(endog = train['Weekly_Sales'],\n",
    "                                     order = (2, 0, 2),              # (p, d, q)\n",
    "                                     seasonal_order = (P, D, Q, S)) # (P, D, Q, S)\n",
    "\n",
    "                    # Fit SARIMA model.\n",
    "                    model = sarima.fit()\n",
    "\n",
    "                    # Generate predictions based on training set.\n",
    "                    # Start at time period 0 and end at 149.\n",
    "                    preds = model.predict()\n",
    "\n",
    "                    # Evaluate predictions.\n",
    "                    print(f'The MSE for (2, 0, 2)x({P},{D},{Q},{S}) is: {mean_squared_error(train[\"Weekly_Sales\"], preds)}')\n",
    "                \n",
    "                    # Save for final report.\n",
    "                    if mse > mean_squared_error(train['Weekly_Sales'], preds):\n",
    "                        mse = mean_squared_error(test['Weekly_Sales'], preds)\n",
    "                        final_P = P\n",
    "                        final_D = D\n",
    "                        final_Q = Q\n",
    "                        final_S = S\n",
    "                \n",
    "                except:\n",
    "                    pass\n",
    "\n",
    "print(f'Our model that minimizes MSE on the training data is the SARIMA(2, 0, 2)x({final_P},{final_D},{final_Q},{final_S}).')\n",
    "print(f'This model has an MSE of {mse}.')"
   ]
  },
  {
   "cell_type": "code",
   "execution_count": 44,
   "metadata": {},
   "outputs": [
    {
     "data": {
      "text/plain": [
       "Text(0.5, 1.0, 'Residual Plot')"
      ]
     },
     "execution_count": 44,
     "metadata": {},
     "output_type": "execute_result"
    },
    {
     "data": {
      "image/png": "[encoded data removed]",
      "text/plain": [
       "<Figure size 432x288 with 1 Axes>"
      ]
     },
     "metadata": {
      "needs_background": "light"
     },
     "output_type": "display_data"
    }
   ],
   "source": [
    "train['pred_sarimax'] = ''\n",
    "for i in range(len(preds_sarima)):\n",
    "    train['pred_sarimax'][i] = preds[i]\n",
    "\n",
    "train['resi_sarimax'] = train['Y_true'] - train['pred_sarimax']\n",
    "train.head()\n",
    "\n",
    "plt.scatter(train.index, train['resi_sarimax'])\n",
    "plt.title('Residual Plot')"
   ]
  },
  {
   "cell_type": "markdown",
   "metadata": {},
   "source": [
    "**12b. How did your best SARIMAX model perform?**"
   ]
  },
  {
   "cell_type": "markdown",
   "metadata": {},
   "source": [
    "Answer: As above"
   ]
  },
  {
   "cell_type": "markdown",
   "metadata": {},
   "source": [
    "### 13. Your Best Model\n",
    "\n",
    "**13a. In the cells below, bring together your best model, including:**\n",
    "- any summaries, \n",
    "- graphs of the data and residuals, \n",
    "- the predictions,\n",
    "- and how you decided this was your best model."
   ]
  },
  {
   "cell_type": "markdown",
   "metadata": {},
   "source": [
    "Best model is ARIMA(2,2) model as the MSE was the lowest."
   ]
  },
  {
   "cell_type": "markdown",
   "metadata": {},
   "source": [
    "**13b. How does our model perform at predicting weekly sales moving forward?** "
   ]
  },
  {
   "cell_type": "markdown",
   "metadata": {},
   "source": [
    "Answer: "
   ]
  },
  {
   "cell_type": "markdown",
   "metadata": {},
   "source": [
    "**13c. How might you improve it?**"
   ]
  },
  {
   "cell_type": "markdown",
   "metadata": {},
   "source": [
    "Answer:"
   ]
  },
  {
   "cell_type": "markdown",
   "metadata": {},
   "source": [
    "### 14. BONUS: Rolling Predictions\n",
    "\n",
    "**Try testing the performance of your model using rolling predictions. For each testing observation $Y_t$ you should train your model using data up to $Y_{t-1}$. This allows us to make meaningful predictions for all testing observations** "
   ]
  },
  {
   "cell_type": "markdown",
   "metadata": {},
   "source": [
    "Answer:"
   ]
  }
 ],
 "metadata": {
  "kernelspec": {
   "display_name": "Python 3 (ipykernel)",
   "language": "python",
   "name": "python3"
  },
  "language_info": {
   "codemirror_mode": {
    "name": "ipython",
    "version": 3
   },
   "file_extension": ".py",
   "mimetype": "text/x-python",
   "name": "python",
   "nbconvert_exporter": "python",
   "pygments_lexer": "ipython3",
   "version": "3.9.7"
  }
 },
 "nbformat": 4,
 "nbformat_minor": 4
}
